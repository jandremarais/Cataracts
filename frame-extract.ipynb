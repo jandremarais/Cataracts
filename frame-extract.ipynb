{
 "cells": [
  {
   "cell_type": "code",
   "execution_count": 14,
   "metadata": {
    "collapsed": true
   },
   "outputs": [],
   "source": [
    "import imageio"
   ]
  },
  {
   "cell_type": "code",
   "execution_count": 53,
   "metadata": {},
   "outputs": [
    {
     "name": "stdout",
     "output_type": "stream",
     "text": [
      "FFMPEG - Many video formats and cameras (via ffmpeg)\n",
      "\n",
      "    The ffmpeg format provides reading and writing for a wide range\n",
      "    of movie formats such as .avi, .mpeg, .mp4, etc. And also to read\n",
      "    streams from webcams and USB cameras. \n",
      "    \n",
      "    To read from camera streams, supply \"<video0>\" as the filename,\n",
      "    where the \"0\" can be replaced with any index of cameras known to\n",
      "    the system.\n",
      "    \n",
      "    Note that for reading regular video files, the avbin plugin is more\n",
      "    efficient.\n",
      "    \n",
      "    By setting the environment variable 'IMAGEIO_FFMPEG_EXE' the\n",
      "    ffmpeg executable to use can be overridden. \n",
      "    E.g. ``os.environ['IMAGEIO_FFMPEG_EXE'] = '/path/to/my/ffmpeg'``\n",
      "    Otherwise, imageio will look for ffmpeg on the system path and then\n",
      "    download ffmpeg if not found.\n",
      "    \n",
      "    Parameters for reading\n",
      "    ----------------------\n",
      "    loop : bool\n",
      "        If True, the video will rewind as soon as a frame is requested\n",
      "        beyond the last frame. Otherwise, IndexError is raised. Default False.\n",
      "    size : str | tuple\n",
      "        The frame size (i.e. resolution) to read the images, e.g. \n",
      "        (100, 100) or \"640x480\". For camera streams, this allows setting\n",
      "        the capture resolution. For normal video data, ffmpeg will\n",
      "        rescale the data.\n",
      "    pixelformat : str\n",
      "        The pixel format for the camera to use (e.g. \"yuyv422\" or\n",
      "        \"gray\"). The camera needs to support the format in order for\n",
      "        this to take effect. Note that the images produced by this\n",
      "        reader are always rgb8.\n",
      "    ffmpeg_params: list\n",
      "        List additional arguments to ffmpeg for input file options.\n",
      "        Example ffmpeg arguments to use aggressive error handling:\n",
      "        ['-err_detect', 'aggressive']\n",
      "    print_info : bool\n",
      "        Print information about the video file as reported by ffmpeg.\n",
      "    \n",
      "    Parameters for saving\n",
      "    ---------------------\n",
      "    fps : scalar\n",
      "        The number of frames per second. Default 10.\n",
      "    codec : str\n",
      "        the video codec to use. Default 'libx264', which represents the\n",
      "        widely available mpeg4. Except when saving .wmv files, then the\n",
      "        defaults is 'msmpeg4' which is more commonly supported for windows\n",
      "    quality : float | None\n",
      "        Video output quality. Default is 5. Uses variable bit rate. Highest\n",
      "        quality is 10, lowest is 0. Set to None to prevent variable bitrate\n",
      "        flags to FFMPEG so you can manually specify them using ffmpeg_params\n",
      "        instead. Specifying a fixed bitrate using 'bitrate' disables this\n",
      "        parameter.\n",
      "    bitrate : int | None\n",
      "        Set a constant bitrate for the video encoding. Default is None causing\n",
      "        'quality' parameter to be used instead.  Better quality videos with\n",
      "        smaller file sizes will result from using the 'quality'  variable\n",
      "        bitrate parameter rather than specifiying a fixed bitrate with this\n",
      "        parameter.\n",
      "    pixelformat: str\n",
      "        The output video pixel format. Default is 'yuv420p' which most widely\n",
      "        supported by video players.\n",
      "    ffmpeg_params: list\n",
      "        List additional arguments to ffmpeg for output file options.\n",
      "        Example ffmpeg arguments to use only intra frames and set aspect ratio:\n",
      "        ['-intra', '-aspect', '16:9']\n",
      "    ffmpeg_log_level: str\n",
      "        Sets ffmpeg output log level.  Default is \"warning\".\n",
      "        Values can be \"quiet\", \"panic\", \"fatal\", \"error\", \"warning\", \"info\"\n",
      "        \"verbose\", or \"debug\". Also prints the FFMPEG command being used by\n",
      "        imageio if \"info\", \"verbose\", or \"debug\".\n",
      "    macro_block_size: int\n",
      "        Size constraint for video. Width and height, must be divisible by this\n",
      "        number. If not divisible by this number imageio will tell ffmpeg to\n",
      "        scale the image up to the next closest size\n",
      "        divisible by this number. Most codecs are compatible with a macroblock\n",
      "        size of 16 (default), some can go smaller (4, 8). To disable this\n",
      "        automatic feature set it to None, however be warned many players can't\n",
      "        decode videos that are odd in size and some codecs will produce poor\n",
      "        results or fail. See https://en.wikipedia.org/wiki/Macroblock.\n",
      "\n"
     ]
    }
   ],
   "source": [
    "imageio.help('mp4')"
   ]
  },
  {
   "cell_type": "code",
   "execution_count": 60,
   "metadata": {},
   "outputs": [
    {
     "name": "stdout",
     "output_type": "stream",
     "text": [
      "vid/train10.mp4\n"
     ]
    },
    {
     "name": "stderr",
     "output_type": "stream",
     "text": [
      "WARNING:root:Warning: the frame size for reading (480, 270) is different from the source frame size (1920, 1080).\n"
     ]
    },
    {
     "name": "stdout",
     "output_type": "stream",
     "text": [
      "vid/train24.mp4\n"
     ]
    },
    {
     "name": "stderr",
     "output_type": "stream",
     "text": [
      "WARNING:root:Warning: the frame size for reading (480, 270) is different from the source frame size (1920, 1080).\n"
     ]
    },
    {
     "name": "stdout",
     "output_type": "stream",
     "text": [
      "vid/train18.mp4\n"
     ]
    },
    {
     "name": "stderr",
     "output_type": "stream",
     "text": [
      "WARNING:root:Warning: the frame size for reading (480, 270) is different from the source frame size (1920, 1080).\n"
     ]
    },
    {
     "name": "stdout",
     "output_type": "stream",
     "text": [
      "vid/train02.mp4\n"
     ]
    },
    {
     "name": "stderr",
     "output_type": "stream",
     "text": [
      "WARNING:root:Warning: the frame size for reading (480, 270) is different from the source frame size (1920, 1080).\n"
     ]
    },
    {
     "name": "stdout",
     "output_type": "stream",
     "text": [
      "vid/train25.mp4\n"
     ]
    },
    {
     "name": "stderr",
     "output_type": "stream",
     "text": [
      "WARNING:root:Warning: the frame size for reading (480, 270) is different from the source frame size (1920, 1080).\n"
     ]
    },
    {
     "name": "stdout",
     "output_type": "stream",
     "text": [
      "vid/train15.mp4\n"
     ]
    },
    {
     "name": "stderr",
     "output_type": "stream",
     "text": [
      "WARNING:root:Warning: the frame size for reading (480, 270) is different from the source frame size (1920, 1080).\n"
     ]
    },
    {
     "name": "stdout",
     "output_type": "stream",
     "text": [
      "vid/train03.mp4\n"
     ]
    },
    {
     "name": "stderr",
     "output_type": "stream",
     "text": [
      "WARNING:root:Warning: the frame size for reading (480, 270) is different from the source frame size (1920, 1080).\n"
     ]
    },
    {
     "name": "stdout",
     "output_type": "stream",
     "text": [
      "vid/train17.mp4\n"
     ]
    },
    {
     "name": "stderr",
     "output_type": "stream",
     "text": [
      "WARNING:root:Warning: the frame size for reading (480, 270) is different from the source frame size (1920, 1080).\n"
     ]
    },
    {
     "name": "stdout",
     "output_type": "stream",
     "text": [
      "vid/train16.mp4\n"
     ]
    },
    {
     "name": "stderr",
     "output_type": "stream",
     "text": [
      "WARNING:root:Warning: the frame size for reading (480, 270) is different from the source frame size (1920, 1080).\n"
     ]
    },
    {
     "name": "stdout",
     "output_type": "stream",
     "text": [
      "vid/train19.mp4\n"
     ]
    },
    {
     "name": "stderr",
     "output_type": "stream",
     "text": [
      "WARNING:root:Warning: the frame size for reading (480, 270) is different from the source frame size (1920, 1080).\n"
     ]
    },
    {
     "name": "stdout",
     "output_type": "stream",
     "text": [
      "vid/train13.mp4\n"
     ]
    },
    {
     "name": "stderr",
     "output_type": "stream",
     "text": [
      "WARNING:root:Warning: the frame size for reading (480, 270) is different from the source frame size (1920, 1080).\n"
     ]
    },
    {
     "name": "stdout",
     "output_type": "stream",
     "text": [
      "vid/train23.mp4\n"
     ]
    },
    {
     "name": "stderr",
     "output_type": "stream",
     "text": [
      "WARNING:root:Warning: the frame size for reading (480, 270) is different from the source frame size (1920, 1080).\n"
     ]
    },
    {
     "name": "stdout",
     "output_type": "stream",
     "text": [
      "vid/train04.mp4\n"
     ]
    },
    {
     "name": "stderr",
     "output_type": "stream",
     "text": [
      "WARNING:root:Warning: the frame size for reading (480, 270) is different from the source frame size (1920, 1080).\n"
     ]
    },
    {
     "name": "stdout",
     "output_type": "stream",
     "text": [
      "vid/train21.mp4\n"
     ]
    },
    {
     "name": "stderr",
     "output_type": "stream",
     "text": [
      "WARNING:root:Warning: the frame size for reading (480, 270) is different from the source frame size (1920, 1080).\n"
     ]
    },
    {
     "name": "stdout",
     "output_type": "stream",
     "text": [
      "vid/train06.mp4\n"
     ]
    },
    {
     "name": "stderr",
     "output_type": "stream",
     "text": [
      "WARNING:root:Warning: the frame size for reading (480, 270) is different from the source frame size (1920, 1080).\n",
      "/home/jan/anaconda3/lib/python3.6/site-packages/imageio/core/format.py:392: UserWarning: Could not read last frame of /home/jan/Documents/Cataracts/vid/train06.mp4.\n",
      "  warn('Could not read last frame of %s.' % uri)\n"
     ]
    },
    {
     "name": "stdout",
     "output_type": "stream",
     "text": [
      "vid/train05.mp4\n"
     ]
    },
    {
     "name": "stderr",
     "output_type": "stream",
     "text": [
      "WARNING:root:Warning: the frame size for reading (480, 270) is different from the source frame size (1920, 1080).\n",
      "/home/jan/anaconda3/lib/python3.6/site-packages/imageio/core/format.py:392: UserWarning: Could not read last frame of /home/jan/Documents/Cataracts/vid/train05.mp4.\n",
      "  warn('Could not read last frame of %s.' % uri)\n"
     ]
    },
    {
     "name": "stdout",
     "output_type": "stream",
     "text": [
      "vid/train20.mp4\n"
     ]
    },
    {
     "name": "stderr",
     "output_type": "stream",
     "text": [
      "WARNING:root:Warning: the frame size for reading (480, 270) is different from the source frame size (1920, 1080).\n",
      "/home/jan/anaconda3/lib/python3.6/site-packages/imageio/core/format.py:392: UserWarning: Could not read last frame of /home/jan/Documents/Cataracts/vid/train20.mp4.\n",
      "  warn('Could not read last frame of %s.' % uri)\n"
     ]
    },
    {
     "name": "stdout",
     "output_type": "stream",
     "text": [
      "vid/train07.mp4\n"
     ]
    },
    {
     "name": "stderr",
     "output_type": "stream",
     "text": [
      "WARNING:root:Warning: the frame size for reading (480, 270) is different from the source frame size (1920, 1080).\n"
     ]
    },
    {
     "name": "stdout",
     "output_type": "stream",
     "text": [
      "vid/train11.mp4\n"
     ]
    },
    {
     "name": "stderr",
     "output_type": "stream",
     "text": [
      "WARNING:root:Warning: the frame size for reading (480, 270) is different from the source frame size (1920, 1080).\n"
     ]
    },
    {
     "name": "stdout",
     "output_type": "stream",
     "text": [
      "vid/train12.mp4\n"
     ]
    },
    {
     "name": "stderr",
     "output_type": "stream",
     "text": [
      "WARNING:root:Warning: the frame size for reading (480, 270) is different from the source frame size (1920, 1080).\n"
     ]
    },
    {
     "name": "stdout",
     "output_type": "stream",
     "text": [
      "vid/train09.mp4\n"
     ]
    },
    {
     "name": "stderr",
     "output_type": "stream",
     "text": [
      "WARNING:root:Warning: the frame size for reading (480, 270) is different from the source frame size (1920, 1080).\n"
     ]
    },
    {
     "name": "stdout",
     "output_type": "stream",
     "text": [
      "vid/train01.mp4\n"
     ]
    },
    {
     "name": "stderr",
     "output_type": "stream",
     "text": [
      "WARNING:root:Warning: the frame size for reading (480, 270) is different from the source frame size (1920, 1080).\n"
     ]
    },
    {
     "name": "stdout",
     "output_type": "stream",
     "text": [
      "vid/train14.mp4\n"
     ]
    },
    {
     "name": "stderr",
     "output_type": "stream",
     "text": [
      "WARNING:root:Warning: the frame size for reading (480, 270) is different from the source frame size (1920, 1080).\n",
      "/home/jan/anaconda3/lib/python3.6/site-packages/imageio/core/format.py:392: UserWarning: Could not read last frame of /home/jan/Documents/Cataracts/vid/train14.mp4.\n",
      "  warn('Could not read last frame of %s.' % uri)\n"
     ]
    },
    {
     "name": "stdout",
     "output_type": "stream",
     "text": [
      "vid/train22.mp4\n"
     ]
    },
    {
     "name": "stderr",
     "output_type": "stream",
     "text": [
      "WARNING:root:Warning: the frame size for reading (480, 270) is different from the source frame size (1920, 1080).\n"
     ]
    },
    {
     "name": "stdout",
     "output_type": "stream",
     "text": [
      "vid/train08.mp4\n"
     ]
    },
    {
     "name": "stderr",
     "output_type": "stream",
     "text": [
      "WARNING:root:Warning: the frame size for reading (480, 270) is different from the source frame size (1920, 1080).\n"
     ]
    }
   ],
   "source": [
    "import os\n",
    "for vname in os.listdir('vid'):\n",
    "    fname = 'vid/' + vname\n",
    "    print(fname)\n",
    "    vid = imageio.get_reader(fname,  'ffmpeg', size=(480,270))\n",
    "    for i,im in enumerate(vid):\n",
    "        x = i + 1\n",
    "        #if x % 5 == 0:\n",
    "        imageio.imsave('train/'+ vname.split('.mp4')[0] + '_frame%d.jpg' % x, im)"
   ]
  },
  {
   "cell_type": "code",
   "execution_count": 20,
   "metadata": {},
   "outputs": [
    {
     "name": "stdout",
     "output_type": "stream",
     "text": [
      "<class 'imageio.core.util.Image'>\n"
     ]
    }
   ],
   "source": []
  }
 ],
 "metadata": {
  "kernelspec": {
   "display_name": "Python 3",
   "language": "python",
   "name": "python3"
  }
 },
 "nbformat": 4,
 "nbformat_minor": 2
}
